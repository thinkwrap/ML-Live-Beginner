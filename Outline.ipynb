{
 "cells": [
  {
   "cell_type": "markdown",
   "metadata": {
    "duration": "20 minutes"
   },
   "source": [
    "# Beginning Machine Learning with scikit-learn"
   ]
  },
  {
   "cell_type": "markdown",
   "metadata": {
    "duration": "20 minutes"
   },
   "source": [
    "## Resources\n",
    "\n",
    "This training material is available under a CC BY-NC-SA 4.0 license.  You can find it at:\n",
    "\n",
    "> <font size=\"+2\">https://github.com/DavidMertz/ML-Live-Beginner</font>\n",
    "\n",
    "Before attending this course, please configure the environments you will need.  Within the repository, find the file `requirements.txt` to install software using `pip`, or the file `environment.yml` to install software using `conda`.\n",
    "\n",
    "Please contact me and my training company, [KDM Training](http://kdm.training) for hands-on, instructor-led, onsite or remote, training.  Our email is info@kdm.training.\n",
    "\n",
    "The followup to this course—*Intermediate Machine Learning with `scikit-learn`*—covers additional topics, such as *unsupervised* machine learning, feature engineering, pipelines, and robust train/test splits."
   ]
  },
  {
   "cell_type": "markdown",
   "metadata": {},
   "source": [
    "## What Is Machine Learning?\n",
    "\n",
    "* Difference between \"Deep Learning\" and other ML techniques\n",
    "* Overview of techniques used in Machine Learning\n",
    "* Classification vs. Regression vs. Clustering\n",
    "* Dimensionality Reduction\n",
    "* Feature Engineering\n",
    "* Feature Selection\n",
    "* Categorical vs. Ordinal vs. Continuous variables\n",
    "* One-hot encoding\n",
    "* Hyperparameters\n",
    "* Grid Search\n",
    "* Metrics\n",
    "\n",
    "<div><a href=\"WhatIsML.ipynb\"><img src=\"img/open-notebook.png\" align=\"left\"/></a></div>\n"
   ]
  },
  {
   "cell_type": "markdown",
   "metadata": {},
   "source": [
    "## Exploring a Data Set\n",
    "\n",
    "* Looking for anomalies and data integrity problems\n",
    "* Cleaning data\n",
    "* Massaging data format to be model-ready\n",
    "* Choosing features and a target\n",
    "* Train/test split\n",
    "\n",
    "<div><a href=\"Exploring.ipynb\"><img src=\"img/open-notebook.png\" align=\"left\"/></a></div>"
   ]
  },
  {
   "cell_type": "markdown",
   "metadata": {},
   "source": [
    "## Classification\n",
    "\n",
    "* Choosing a model\n",
    "* Feature importances\n",
    "* Cut points in a decision tree\n",
    "* Comparing multiple classifiers\n",
    "\n",
    "<div><a href=\"Classification.ipynb\"><img src=\"img/open-notebook.png\" align=\"left\"/></a></div>"
   ]
  },
  {
   "cell_type": "markdown",
   "metadata": {},
   "source": [
    "## Regression\n",
    "\n",
    "* Sample data sets in scikit-learn\n",
    "* Linear regressors\n",
    "* Probabilistic regressors\n",
    "* Other regressors\n",
    "\n",
    "<div><a href=\"Regression.ipynb\"><img src=\"img/open-notebook.png\" align=\"left\"/></a></div>"
   ]
  },
  {
   "cell_type": "markdown",
   "metadata": {},
   "source": [
    "## Hyperparameters\n",
    "\n",
    "* Understanding hyperparameters\n",
    "* Manual search of parameter space\n",
    "* GridsearchCV\n",
    "* Attributes of grid search and wrapped model\n",
    "\n",
    "<div><a href=\"Hyperparameters.ipynb\"><img src=\"img/open-notebook.png\" align=\"left\"/></a></div>"
   ]
  }
 ],
 "metadata": {
  "kernelspec": {
   "display_name": "Python 3",
   "language": "python",
   "name": "python3"
  },
  "language_info": {
   "codemirror_mode": {
    "name": "ipython",
    "version": 3
   },
   "file_extension": ".py",
   "mimetype": "text/x-python",
   "name": "python",
   "nbconvert_exporter": "python",
   "pygments_lexer": "ipython3",
   "version": "3.6.7"
  }
 },
 "nbformat": 4,
 "nbformat_minor": 2
}
